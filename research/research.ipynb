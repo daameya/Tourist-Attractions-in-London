{
 "cells": [
  {
   "cell_type": "code",
   "execution_count": 1,
   "metadata": {},
   "outputs": [],
   "source": [
    "import flickrapi\n",
    "import time\n",
    "import xml.etree.ElementTree as ET\n",
    "from collections import defaultdict\n",
    "import pandas as pd\n",
    "import numpy as np\n",
    "import matplotlib.pyplot as plt\n",
    "from sklearn import cluster\n",
    "from sklearn import preprocessing\n",
    "import seaborn as sns\n",
    "import folium\n",
    "from folium.plugins import HeatMap\n",
    "\n",
    "# your API key and secret\n",
    "api_key = u'3a500e823f55613be4f5acee369d4041'\n",
    "api_secret = u'b7ac06684cafe24f'\n",
    "\n",
    "# creation of a FlickrAPI object\n",
    "flickr = flickrapi.FlickrAPI(api_key, api_secret)"
   ]
  },
  {
   "cell_type": "code",
   "execution_count": 2,
   "metadata": {},
   "outputs": [
    {
     "name": "stdout",
     "output_type": "stream",
     "text": [
      "Number of pages: 18\n",
      "1 2 3 4 5 6 7 8 9 10 11 12 13 14 15 16 17 18 "
     ]
    }
   ],
   "source": [
    "# create a default dictionary to store information about the photos \n",
    "# the keys are the attributes of interest and the values the data\n",
    "photo_information = defaultdict(list)\n",
    "\n",
    "# we loop through the different pages that contain photos of London taken in 2019\n",
    "i = 1\n",
    "while True:     \n",
    "    result = flickr.photos.search(\n",
    "                    per_page=400, #number of data per page\n",
    "                    has_geo=1, #Photo that has geo location\n",
    "                    min_taken_date='2019-1-01', # minimum date - 1 Jan 2019\n",
    "                    max_taken_date='2019-12-31', # maximum data - 31 Dec 2019\n",
    "                    bbox='-0.5103,51.2868,0.3340,51.6919', # boundary box of London\n",
    "                    media='photos', #collecting only photos (videos excluded)\n",
    "                    sort='date-taken-desc', \n",
    "                    privacy_filter=1,#collecting only public photos (private photos excluded)\n",
    "                    safe_search=1, #photos without violence\n",
    "                    extras='geo,url_n,date_taken,views,license',\n",
    "                    page=i)\n",
    "    \n",
    "    # pause the execution of the program 2 seconds\n",
    "    time.sleep(2)\n",
    "    \n",
    "    # obtain the number of pages (first iteration)\n",
    "    # this information is contained in the photos tag and it will allows us to determine when to break the loop\n",
    "    if i == 1:\n",
    "        pages = int(result[0].attrib['pages'])\n",
    "        print('Number of pages: {}'.format(pages))\n",
    "    \n",
    "    # print the number of the page - iteration of the while loop\n",
    "    print(i, end=' ')  \n",
    "    \n",
    "    # loop through all the photos available in the page\n",
    "    # store (1) the id, (2) the latitude, (3) the longitude, and (4) the URL of the photo in the dictionary  \n",
    "    for element in result[0].findall('photo'):\n",
    "        photo_information['id'].append(element.attrib['id'])\n",
    "        photo_information['latitude'].append(element.attrib['latitude'])\n",
    "        photo_information['longitude'].append(element.attrib['longitude'])\n",
    "        photo_information['url_n'].append(element.attrib['url_n'])\n",
    "\n",
    "    # if the page correspond to the last page we break the loop  \n",
    "    if i == pages:\n",
    "        break\n",
    "    else:\n",
    "        i = i + 1"
   ]
  },
  {
   "cell_type": "code",
   "execution_count": 3,
   "metadata": {},
   "outputs": [
    {
     "name": "stdout",
     "output_type": "stream",
     "text": [
      "<photo id=\"49304563418\" owner=\"48524258@N00\" secret=\"a7be17588c\" server=\"65535\" farm=\"66\" title=\"IMG_20191231_125014349\" ispublic=\"1\" isfriend=\"0\" isfamily=\"0\" license=\"5\" datetaken=\"2019-12-31 12:50:14\" datetakengranularity=\"0\" datetakenunknown=\"0\" views=\"10\" latitude=\"51.383127\" longitude=\"-0.107378\" accuracy=\"16\" context=\"0\" place_id=\"\" woeid=\"2651817\" geo_is_public=\"1\" geo_is_contact=\"0\" geo_is_friend=\"0\" geo_is_family=\"0\" url_n=\"https://live.staticflickr.com/65535/49304563418_a7be17588c_n.jpg\" height_n=\"240\" width_n=\"320\" />\n",
      "\t\n"
     ]
    }
   ],
   "source": [
    "# visualize the tree structure of the XML element obtained after calling the search function\n",
    "ET.dump(result[0][0])"
   ]
  },
  {
   "cell_type": "code",
   "execution_count": 4,
   "metadata": {},
   "outputs": [
    {
     "data": {
      "text/html": [
       "<div>\n",
       "<style scoped>\n",
       "    .dataframe tbody tr th:only-of-type {\n",
       "        vertical-align: middle;\n",
       "    }\n",
       "\n",
       "    .dataframe tbody tr th {\n",
       "        vertical-align: top;\n",
       "    }\n",
       "\n",
       "    .dataframe thead th {\n",
       "        text-align: right;\n",
       "    }\n",
       "</style>\n",
       "<table border=\"1\" class=\"dataframe\">\n",
       "  <thead>\n",
       "    <tr style=\"text-align: right;\">\n",
       "      <th></th>\n",
       "      <th>id</th>\n",
       "      <th>latitude</th>\n",
       "      <th>longitude</th>\n",
       "      <th>url_n</th>\n",
       "    </tr>\n",
       "  </thead>\n",
       "  <tbody>\n",
       "    <tr>\n",
       "      <th>0</th>\n",
       "      <td>49304563418</td>\n",
       "      <td>51.383127</td>\n",
       "      <td>-0.107378</td>\n",
       "      <td>https://live.staticflickr.com/65535/4930456341...</td>\n",
       "    </tr>\n",
       "    <tr>\n",
       "      <th>1</th>\n",
       "      <td>49305754441</td>\n",
       "      <td>51.505109</td>\n",
       "      <td>0.063257</td>\n",
       "      <td>https://live.staticflickr.com/65535/4930575444...</td>\n",
       "    </tr>\n",
       "    <tr>\n",
       "      <th>2</th>\n",
       "      <td>49305195797</td>\n",
       "      <td>51.530746</td>\n",
       "      <td>-0.137929</td>\n",
       "      <td>https://live.staticflickr.com/65535/4930519579...</td>\n",
       "    </tr>\n",
       "    <tr>\n",
       "      <th>3</th>\n",
       "      <td>49849395713</td>\n",
       "      <td>51.512956</td>\n",
       "      <td>-0.083524</td>\n",
       "      <td>https://live.staticflickr.com/65535/4984939571...</td>\n",
       "    </tr>\n",
       "    <tr>\n",
       "      <th>4</th>\n",
       "      <td>49358371881</td>\n",
       "      <td>51.511266</td>\n",
       "      <td>-0.139067</td>\n",
       "      <td>https://live.staticflickr.com/65535/4935837188...</td>\n",
       "    </tr>\n",
       "  </tbody>\n",
       "</table>\n",
       "</div>"
      ],
      "text/plain": [
       "            id   latitude  longitude  \\\n",
       "0  49304563418  51.383127  -0.107378   \n",
       "1  49305754441  51.505109   0.063257   \n",
       "2  49305195797  51.530746  -0.137929   \n",
       "3  49849395713  51.512956  -0.083524   \n",
       "4  49358371881  51.511266  -0.139067   \n",
       "\n",
       "                                               url_n  \n",
       "0  https://live.staticflickr.com/65535/4930456341...  \n",
       "1  https://live.staticflickr.com/65535/4930575444...  \n",
       "2  https://live.staticflickr.com/65535/4930519579...  \n",
       "3  https://live.staticflickr.com/65535/4984939571...  \n",
       "4  https://live.staticflickr.com/65535/4935837188...  "
      ]
     },
     "execution_count": 4,
     "metadata": {},
     "output_type": "execute_result"
    }
   ],
   "source": [
    "# convert the dictionary into a Pandas dataframe\n",
    "df_photos = pd.DataFrame(photo_information) \n",
    "\n",
    "# visualize the first 5 rows of the dataframe\n",
    "df_photos.head()"
   ]
  },
  {
   "cell_type": "code",
   "execution_count": 5,
   "metadata": {},
   "outputs": [
    {
     "name": "stdout",
     "output_type": "stream",
     "text": [
      "<class 'pandas.core.frame.DataFrame'>\n",
      "RangeIndex: 4498 entries, 0 to 4497\n",
      "Data columns (total 4 columns):\n",
      " #   Column     Non-Null Count  Dtype \n",
      "---  ------     --------------  ----- \n",
      " 0   id         4498 non-null   object\n",
      " 1   latitude   4498 non-null   object\n",
      " 2   longitude  4498 non-null   object\n",
      " 3   url_n      4498 non-null   object\n",
      "dtypes: object(4)\n",
      "memory usage: 140.7+ KB\n"
     ]
    }
   ],
   "source": [
    "# get a summary of the data frame\n",
    "df_photos.info()"
   ]
  },
  {
   "cell_type": "code",
   "execution_count": 6,
   "metadata": {},
   "outputs": [],
   "source": [
    "# convert the columns latitude and longitud into floats\n",
    "df_photos['latitude'] = df_photos['latitude'].astype(float)\n",
    "df_photos['longitude'] = df_photos['longitude'].astype(float)"
   ]
  },
  {
   "cell_type": "code",
   "execution_count": 7,
   "metadata": {},
   "outputs": [
    {
     "data": {
      "text/plain": [
       "np.int64(250)"
      ]
     },
     "execution_count": 7,
     "metadata": {},
     "output_type": "execute_result"
    }
   ],
   "source": [
    "# number of duplicated photos in the data set\n",
    "df_photos.duplicated().sum()"
   ]
  },
  {
   "cell_type": "code",
   "execution_count": 8,
   "metadata": {},
   "outputs": [
    {
     "data": {
      "text/plain": [
       "(4248, 4)"
      ]
     },
     "execution_count": 8,
     "metadata": {},
     "output_type": "execute_result"
    }
   ],
   "source": [
    "# eliminate duplicated photos from the data set\n",
    "df_photos = df_photos.drop_duplicates()\n",
    "\n",
    "# size of the data set after removing duplicated photos\n",
    "df_photos.shape"
   ]
  },
  {
   "cell_type": "code",
   "execution_count": null,
   "metadata": {},
   "outputs": [],
   "source": []
  }
 ],
 "metadata": {
  "kernelspec": {
   "display_name": "venv",
   "language": "python",
   "name": "python3"
  },
  "language_info": {
   "codemirror_mode": {
    "name": "ipython",
    "version": 3
   },
   "file_extension": ".py",
   "mimetype": "text/x-python",
   "name": "python",
   "nbconvert_exporter": "python",
   "pygments_lexer": "ipython3",
   "version": "3.11.3"
  }
 },
 "nbformat": 4,
 "nbformat_minor": 2
}
